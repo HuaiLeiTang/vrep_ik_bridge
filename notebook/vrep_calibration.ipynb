{
 "cells": [
  {
   "cell_type": "code",
   "execution_count": 1,
   "metadata": {
    "collapsed": false
   },
   "outputs": [],
   "source": [
    "import rospy, baxter_commander, json\n",
    "import numpy as np\n",
    "import tf\n",
    "import time\n",
    "from scipy.optimize import minimize\n",
    "import transformations\n",
    "import rospkg\n",
    "import yaml"
   ]
  },
  {
   "cell_type": "code",
   "execution_count": 2,
   "metadata": {
    "collapsed": false
   },
   "outputs": [],
   "source": [
    "rospy.init_node('vrep_calibration')"
   ]
  },
  {
   "cell_type": "code",
   "execution_count": 3,
   "metadata": {
    "collapsed": false
   },
   "outputs": [],
   "source": [
    "rospack = rospkg.RosPack()"
   ]
  },
  {
   "cell_type": "code",
   "execution_count": 4,
   "metadata": {
    "collapsed": false
   },
   "outputs": [
    {
     "name": "stderr",
     "output_type": "stream",
     "text": [
      "Unknown tag: materialUnknown tag: materialScalar element defined multiple times: collisionScalar element defined multiple times: collision"
     ]
    }
   ],
   "source": [
    "right = baxter_commander.ArmCommander('right')"
   ]
  },
  {
   "cell_type": "markdown",
   "metadata": {},
   "source": [
    "# Defintion of Functions"
   ]
  },
  {
   "cell_type": "markdown",
   "metadata": {},
   "source": [
    "### Tools"
   ]
  },
  {
   "cell_type": "code",
   "execution_count": 5,
   "metadata": {
    "collapsed": true
   },
   "outputs": [],
   "source": [
    "def random_transforms(pos_bounds, rot_bounds, nb_transforms=2):\n",
    "    flat_transforms = []\n",
    "    for i in range(nb_transforms):\n",
    "        # add a random position within bounds\n",
    "        flat_transforms += np.random.uniform(pos_bounds[0], pos_bounds[1], 3).tolist()\n",
    "        # add a random quaternion\n",
    "        rot = np.random.uniform(rot_bounds[0], rot_bounds[1], 4)\n",
    "        flat_transforms += (rot / np.linalg.norm(rot)).tolist()\n",
    "    return flat_transforms"
   ]
  },
  {
   "cell_type": "code",
   "execution_count": 6,
   "metadata": {
    "collapsed": true
   },
   "outputs": [],
   "source": [
    "def extract_transforms(flat_transforms):\n",
    "    # a transform is 3 pos and 4 rot\n",
    "    nb_transform = len(flat_transforms) / 7\n",
    "    list_transforms = []\n",
    "    for i in range(nb_transform):\n",
    "        pose = []\n",
    "        # extract the pose\n",
    "        pose.append(flat_transforms[i * 7:i * 7 + 3])\n",
    "        pose.append(flat_transforms[i * 7 + 3:i * 7 + 7])\n",
    "        # append it to the list of transforms\n",
    "        list_transforms.append(pose)\n",
    "    return list_transforms"
   ]
  },
  {
   "cell_type": "markdown",
   "metadata": {},
   "source": [
    "### Cost function for the optimization"
   ]
  },
  {
   "cell_type": "code",
   "execution_count": 7,
   "metadata": {
    "collapsed": false
   },
   "outputs": [],
   "source": [
    "def distance_cost(pose1, pose2, rot_coeff=2):\n",
    "    pos_cost = 0\n",
    "    # calculate position ditance\n",
    "    pos_cost = np.linalg.norm(np.array(pose1[0]) - np.array(pose2[0]))\n",
    "    # distance between two quaternions\n",
    "    rot_cost = 1 - np.inner(pose1[1], pose2[1])**2\n",
    "    return pos_cost + rot_coeff * rot_cost"
   ]
  },
  {
   "cell_type": "code",
   "execution_count": 8,
   "metadata": {
    "collapsed": true
   },
   "outputs": [],
   "source": [
    "def quaternion_cost(list_calibr, norm_coeff):\n",
    "    C = 0\n",
    "    for transform in list_calibr:\n",
    "        # norm of a quaternion is always 1\n",
    "        C += norm_coeff * abs(np.linalg.norm(transform[1]) - 1)\n",
    "    return C"
   ]
  },
  {
   "cell_type": "code",
   "execution_count": 9,
   "metadata": {
    "collapsed": false
   },
   "outputs": [],
   "source": [
    "def evaluate_calibration(calibrations, tf_robot, tf_vrep):\n",
    "    # first extract the transformations\n",
    "    list_calibr = extract_transforms(calibrations)\n",
    "    # collect the cost based on the quaternions\n",
    "    cost = quaternion_cost(list_calibr, 0.5)\n",
    "    # loop trough all the tf\n",
    "    for i in range(len(tf_robot)):\n",
    "        # compute the corresponding transformation from recorded data\n",
    "        pose = transformations.multiply_transform(list_calibr[0], tf_vrep[i])\n",
    "        pose = transformations.multiply_transform(pose, list_calibr[1])\n",
    "        # compute the cost based on the distance\n",
    "        cost += distance_cost(tf_robot[i], pose)\n",
    "    return cost"
   ]
  },
  {
   "cell_type": "markdown",
   "metadata": {},
   "source": [
    "## Record Points"
   ]
  },
  {
   "cell_type": "code",
   "execution_count": 10,
   "metadata": {
    "collapsed": false
   },
   "outputs": [
    {
     "name": "stdout",
     "output_type": "stream",
     "text": [
      "Press Enter to record a new point or Q-Enter to exit: \n",
      "Press Enter to record a new point or Q-Enter to exit: \n",
      "Press Enter to record a new point or Q-Enter to exit: \n",
      "Press Enter to record a new point or Q-Enter to exit: \n",
      "Press Enter to record a new point or Q-Enter to exit: \n",
      "Press Enter to record a new point or Q-Enter to exit: \n",
      "Press Enter to record a new point or Q-Enter to exit: \n",
      "Press Enter to record a new point or Q-Enter to exit: \n",
      "Press Enter to record a new point or Q-Enter to exit: \n",
      "Press Enter to record a new point or Q-Enter to exit: \n",
      "Press Enter to record a new point or Q-Enter to exit: q\n"
     ]
    }
   ],
   "source": [
    "points = {\"tf\": [], \"joints\":[]}\n",
    "tf_robot = []\n",
    "while True:\n",
    "    entry = raw_input('Press Enter to record a new point or Q-Enter to exit: ')\n",
    "    if entry!='':\n",
    "        break\n",
    "    fk = right.endpoint_pose()\n",
    "    joints = baxter_commander.persistence.statetodict(right.get_current_state())\n",
    "    tf_robot.append([fk[0], fk[1]])\n",
    "    points[\"tf\"].append(fk[0]+fk[1])\n",
    "    points[\"joints\"].append(joints[\"position\"])"
   ]
  },
  {
   "cell_type": "code",
   "execution_count": 21,
   "metadata": {
    "collapsed": false
   },
   "outputs": [
    {
     "name": "stdout",
     "output_type": "stream",
     "text": [
      "Is the trajectory correct ? y/[N] \n",
      "Is the trajectory correct ? y/[N] y\n",
      "Is the trajectory correct ? y/[N] y\n",
      "Is the trajectory correct ? y/[N] \n",
      "Is the trajectory correct ? y/[N] \n",
      "Is the trajectory correct ? y/[N] \n",
      "Is the trajectory correct ? y/[N] \n",
      "Is the trajectory correct ? y/[N] \n",
      "Is the trajectory correct ? y/[N] \n",
      "Is the trajectory correct ? y/[N] \n"
     ]
    }
   ],
   "source": [
    "points = {\"tf\": [], \"joints\":[]}\n",
    "tf_robot = []\n",
    "for i in range(10):\n",
    "    goal = right.get_random_pose()\n",
    "    # display only first\n",
    "    right.move_to_controlled(goal, display_only=True)\n",
    "    entry = raw_input('Is the trajectory correct ? y/[N] ')\n",
    "    if entry == 'y':\n",
    "        # now execute the trajectory\n",
    "        right.move_to_controlled(goal)\n",
    "        fk = right.endpoint_pose()\n",
    "        joints = baxter_commander.persistence.statetodict(right.get_current_state())\n",
    "        tf_robot.append([fk[0], fk[1]])\n",
    "        points[\"tf\"].append([fk[0], fk[1]])\n",
    "        points[\"joints\"].append(joints[\"position\"])"
   ]
  },
  {
   "cell_type": "code",
   "execution_count": 11,
   "metadata": {
    "collapsed": false
   },
   "outputs": [],
   "source": [
    "with open('/tmp/robot_joints.json', 'w') as f:\n",
    "    json.dump(points, f, indent=4)"
   ]
  },
  {
   "cell_type": "markdown",
   "metadata": {},
   "source": [
    "## Matlab part: Get VREP coordinates with the given joint angles"
   ]
  },
  {
   "cell_type": "code",
   "execution_count": 12,
   "metadata": {
    "collapsed": false
   },
   "outputs": [],
   "source": [
    "with open('/tmp/vrep_transform.json') as f:\n",
    "    data = json.load(f)\n",
    "# convert the format to get transform matrices\n",
    "positions = np.array(data['cartesian_XYZ'])\n",
    "quaternions = np.array(data['quaternion_XYZScale'])\n",
    "tf_vrep = []\n",
    "for i in range(len(tf_robot)):\n",
    "    pos = positions[i]\n",
    "    rot = quaternions[i]\n",
    "    tf_vrep.append([pos, rot])"
   ]
  },
  {
   "cell_type": "markdown",
   "metadata": {},
   "source": [
    "## Optimization to find the calibration matrices"
   ]
  },
  {
   "cell_type": "code",
   "execution_count": 13,
   "metadata": {
    "collapsed": false
   },
   "outputs": [],
   "source": [
    "# set limits for search space\n",
    "bounds = []\n",
    "pos_bounds = [-0.5, 0.5]\n",
    "rot_bounds = [-1, 1]\n",
    "initial_guess = random_transforms(pos_bounds, rot_bounds, 2)"
   ]
  },
  {
   "cell_type": "code",
   "execution_count": 16,
   "metadata": {
    "collapsed": false
   },
   "outputs": [
    {
     "name": "stdout",
     "output_type": "stream",
     "text": [
      "11.3935930729 seconds of optimization\n"
     ]
    }
   ],
   "source": [
    "t0 = time.time()\n",
    "result = minimize(evaluate_calibration, initial_guess, args=(tf_robot, tf_vrep, ))\n",
    "print time.time()-t0, \"seconds of optimization\""
   ]
  },
  {
   "cell_type": "code",
   "execution_count": 17,
   "metadata": {
    "collapsed": false
   },
   "outputs": [
    {
     "name": "stdout",
     "output_type": "stream",
     "text": [
      "   status: 2\n",
      "  success: False\n",
      "     njev: 113\n",
      "     nfev: 1820\n",
      " hess_inv: array([[  2.76688089e-06,  -1.33834461e-06,   4.28083207e-06,\n",
      "          1.02149076e-06,   5.17668743e-07,   7.29589403e-07,\n",
      "         -4.92678462e-06,   1.68719289e-07,   2.81248433e-06,\n",
      "         -5.18161079e-07,  -5.99462343e-04,  -2.52031099e-04,\n",
      "          8.66779867e-05,   6.24319307e-05],\n",
      "       [ -1.33834461e-06,   9.93592069e-07,  -2.58502006e-06,\n",
      "         -6.15326257e-07,  -2.63804289e-07,  -6.03643903e-07,\n",
      "          3.11018046e-06,  -1.95088794e-07,  -1.58967597e-06,\n",
      "          3.04017937e-07,   3.58706609e-04,   1.52224553e-04,\n",
      "         -5.25851395e-05,  -3.81539385e-05],\n",
      "       [  4.28083207e-06,  -2.58502006e-06,   7.96499975e-06,\n",
      "          1.94476616e-06,   9.71085034e-07,   1.55762675e-06,\n",
      "         -8.82469178e-06,   6.11093629e-07,   4.79392247e-06,\n",
      "         -9.32269753e-07,  -1.06825545e-03,  -4.62546766e-04,\n",
      "          1.54809412e-04,   1.11533651e-04],\n",
      "       [  1.02149076e-06,  -6.15326257e-07,   1.94476616e-06,\n",
      "          4.97217496e-07,   2.40951692e-07,   3.72120614e-07,\n",
      "         -2.08354245e-06,   1.67936221e-07,   1.17266709e-06,\n",
      "         -2.41528543e-07,  -2.57099818e-04,  -1.12357818e-04,\n",
      "          3.71557500e-05,   2.67261114e-05],\n",
      "       [  5.17668743e-07,  -2.63804289e-07,   9.71085034e-07,\n",
      "          2.40951692e-07,   1.89316990e-07,   1.59893221e-07,\n",
      "         -9.60945985e-07,   1.16410129e-07,   5.77720932e-07,\n",
      "         -1.36490903e-07,  -1.22918326e-04,  -5.35792481e-05,\n",
      "          1.77869719e-05,   1.27660624e-05],\n",
      "       [  7.29589403e-07,  -6.03643903e-07,   1.55762675e-06,\n",
      "          3.72120614e-07,   1.59893221e-07,   4.15352198e-07,\n",
      "         -1.93816567e-06,   1.25036892e-07,   9.65493748e-07,\n",
      "         -1.85899463e-07,  -2.14496195e-04,  -9.56239219e-05,\n",
      "          3.17653962e-05,   2.31237552e-05],\n",
      "       [ -4.92678462e-06,   3.11018046e-06,  -8.82469178e-06,\n",
      "         -2.08354245e-06,  -9.60945985e-07,  -1.93816567e-06,\n",
      "          1.11742897e-05,  -4.91481914e-07,  -5.59309504e-06,\n",
      "          1.04802774e-06,   1.22786766e-03,   5.32814939e-04,\n",
      "         -1.79587034e-04,  -1.30051474e-04],\n",
      "       [  1.68719289e-07,  -1.95088794e-07,   6.11093629e-07,\n",
      "          1.67936221e-07,   1.16410129e-07,   1.25036892e-07,\n",
      "         -4.91481914e-07,   2.13313533e-07,   2.80469462e-07,\n",
      "         -8.51103920e-08,  -6.74231823e-05,  -2.96950165e-05,\n",
      "          1.03424236e-05,   7.55799531e-06],\n",
      "       [  2.81248433e-06,  -1.58967597e-06,   4.79392247e-06,\n",
      "          1.17266709e-06,   5.77720932e-07,   9.65493748e-07,\n",
      "         -5.59309504e-06,   2.80469462e-07,   3.18918923e-06,\n",
      "         -6.03081202e-07,  -6.61104239e-04,  -2.87565644e-04,\n",
      "          9.73248648e-05,   7.05503449e-05],\n",
      "       [ -5.18161079e-07,   3.04017937e-07,  -9.32269753e-07,\n",
      "         -2.41528543e-07,  -1.36490903e-07,  -1.85899463e-07,\n",
      "          1.04802774e-06,  -8.51103920e-08,  -6.03081202e-07,\n",
      "          1.83867391e-07,   1.22040614e-04,   5.09673670e-05,\n",
      "         -1.83429330e-05,  -1.34488810e-05],\n",
      "       [ -5.99462343e-04,   3.58706609e-04,  -1.06825545e-03,\n",
      "         -2.57099818e-04,  -1.22918326e-04,  -2.14496195e-04,\n",
      "          1.22786766e-03,  -6.74231823e-05,  -6.61104239e-04,\n",
      "          1.22040614e-04,   1.72415929e-01,   6.18839516e-02,\n",
      "         -2.12747666e-02,  -1.43916348e-02],\n",
      "       [ -2.52031099e-04,   1.52224553e-04,  -4.62546766e-04,\n",
      "         -1.12357818e-04,  -5.35792481e-05,  -9.56239219e-05,\n",
      "          5.32814939e-04,  -2.96950165e-05,  -2.87565644e-04,\n",
      "          5.09673670e-05,   6.18839516e-02,   5.06478334e-02,\n",
      "         -9.16853994e-03,  -6.48302402e-03],\n",
      "       [  8.66779867e-05,  -5.25851395e-05,   1.54809412e-04,\n",
      "          3.71557500e-05,   1.77869719e-05,   3.17653962e-05,\n",
      "         -1.79587034e-04,   1.03424236e-05,   9.73248648e-05,\n",
      "         -1.83429330e-05,  -2.12747666e-02,  -9.16853994e-03,\n",
      "          3.12242868e-03,   2.26166278e-03],\n",
      "       [  6.24319307e-05,  -3.81539385e-05,   1.11533651e-04,\n",
      "          2.67261114e-05,   1.27660624e-05,   2.31237552e-05,\n",
      "         -1.30051474e-04,   7.55799531e-06,   7.05503449e-05,\n",
      "         -1.34488810e-05,  -1.43916348e-02,  -6.48302402e-03,\n",
      "          2.26166278e-03,   1.67764629e-03]])\n",
      "      fun: 1.1395597421773107\n",
      "        x: array([  6.19655314e-02,  -1.76413828e-03,   2.97828758e-01,\n",
      "         1.87366455e-03,   2.26633156e-03,  -2.77380665e-03,\n",
      "         9.99991671e-01,   2.43737629e-05,   4.10808329e-07,\n",
      "         5.28341196e-02,  -2.52574074e-02,  -5.08369509e-03,\n",
      "        -7.37211960e-01,   6.75170173e-01])\n",
      "  message: 'Desired error not necessarily achieved due to precision loss.'\n",
      "      jac: array([  5.64495310e-01,  -8.95244628e-02,  -2.04165474e-01,\n",
      "         3.54921000e+00,   2.48549178e-01,   1.21874529e+00,\n",
      "        -5.03892750e-01,  -8.81511122e-01,  -6.60464495e-01,\n",
      "         4.50630963e-01,  -1.19943023e-02,  -2.79705226e-03,\n",
      "        -2.08155453e-01,   3.37743223e-01])\n"
     ]
    }
   ],
   "source": [
    "print result"
   ]
  },
  {
   "cell_type": "markdown",
   "metadata": {},
   "source": [
    "## Dumping the calibration matrices"
   ]
  },
  {
   "cell_type": "code",
   "execution_count": 18,
   "metadata": {
    "collapsed": false
   },
   "outputs": [],
   "source": [
    "list_calibr = extract_transforms(result.x)"
   ]
  },
  {
   "cell_type": "code",
   "execution_count": 19,
   "metadata": {
    "collapsed": false
   },
   "outputs": [],
   "source": [
    "A = [list_calibr[0][0].tolist(), list_calibr[0][1].tolist()]\n",
    "B = [list_calibr[1][0].tolist(), list_calibr[1][1].tolist()]"
   ]
  },
  {
   "cell_type": "code",
   "execution_count": 20,
   "metadata": {
    "collapsed": false
   },
   "outputs": [],
   "source": [
    "rospy.set_param(\"/vrep/calibration_matrix\", A)"
   ]
  },
  {
   "cell_type": "code",
   "execution_count": 22,
   "metadata": {
    "collapsed": false
   },
   "outputs": [],
   "source": [
    "with open(rospack.get_path(\"vrep_ik_bridge\")+\"/config/calibration_vrep.yaml\", 'w') as f:\n",
    "    yaml.dump(A, f)"
   ]
  },
  {
   "cell_type": "code",
   "execution_count": 23,
   "metadata": {
    "collapsed": true
   },
   "outputs": [],
   "source": [
    "with open(rospack.get_path(\"vrep_ik_bridge\")+\"/config/calibration_tip.yaml\", 'w') as f:\n",
    "    yaml.dump(B, f)"
   ]
  },
  {
   "cell_type": "code",
   "execution_count": null,
   "metadata": {
    "collapsed": false
   },
   "outputs": [],
   "source": []
  }
 ],
 "metadata": {
  "kernelspec": {
   "display_name": "Python 2",
   "language": "python",
   "name": "python2"
  },
  "language_info": {
   "codemirror_mode": {
    "name": "ipython",
    "version": 2
   },
   "file_extension": ".py",
   "mimetype": "text/x-python",
   "name": "python",
   "nbconvert_exporter": "python",
   "pygments_lexer": "ipython2",
   "version": "2.7.6"
  }
 },
 "nbformat": 4,
 "nbformat_minor": 0
}
